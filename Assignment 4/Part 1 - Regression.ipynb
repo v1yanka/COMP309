{
 "cells": [
  {
   "cell_type": "code",
   "execution_count": 1,
   "metadata": {},
   "outputs": [],
   "source": [
    "import pandas as pd\n",
    "from scipy.stats import skew\n",
    "from scipy.stats import kurtosis\n",
    "import matplotlib.pyplot as plt\n",
    "import seaborn as sns\n",
    "import numpy as np"
   ]
  },
  {
   "cell_type": "markdown",
   "metadata": {},
   "source": [
    "# Initial Data Analysis"
   ]
  },
  {
   "cell_type": "markdown",
   "metadata": {},
   "source": []
  },
  {
   "cell_type": "code",
   "execution_count": 2,
   "metadata": {},
   "outputs": [
    {
     "data": {
      "text/html": [
       "<div>\n",
       "<style scoped>\n",
       "    .dataframe tbody tr th:only-of-type {\n",
       "        vertical-align: middle;\n",
       "    }\n",
       "\n",
       "    .dataframe tbody tr th {\n",
       "        vertical-align: top;\n",
       "    }\n",
       "\n",
       "    .dataframe thead th {\n",
       "        text-align: right;\n",
       "    }\n",
       "</style>\n",
       "<table border=\"1\" class=\"dataframe\">\n",
       "  <thead>\n",
       "    <tr style=\"text-align: right;\">\n",
       "      <th></th>\n",
       "      <th>Unnamed: 0</th>\n",
       "      <th>carat</th>\n",
       "      <th>cut</th>\n",
       "      <th>color</th>\n",
       "      <th>clarity</th>\n",
       "      <th>depth</th>\n",
       "      <th>table</th>\n",
       "      <th>x</th>\n",
       "      <th>y</th>\n",
       "      <th>z</th>\n",
       "      <th>price</th>\n",
       "    </tr>\n",
       "  </thead>\n",
       "  <tbody>\n",
       "    <tr>\n",
       "      <th>0</th>\n",
       "      <td>1</td>\n",
       "      <td>0.23</td>\n",
       "      <td>Ideal</td>\n",
       "      <td>E</td>\n",
       "      <td>SI2</td>\n",
       "      <td>61.5</td>\n",
       "      <td>55.0</td>\n",
       "      <td>3.95</td>\n",
       "      <td>3.98</td>\n",
       "      <td>2.43</td>\n",
       "      <td>326</td>\n",
       "    </tr>\n",
       "    <tr>\n",
       "      <th>1</th>\n",
       "      <td>2</td>\n",
       "      <td>0.21</td>\n",
       "      <td>Premium</td>\n",
       "      <td>E</td>\n",
       "      <td>SI1</td>\n",
       "      <td>59.8</td>\n",
       "      <td>61.0</td>\n",
       "      <td>3.89</td>\n",
       "      <td>3.84</td>\n",
       "      <td>2.31</td>\n",
       "      <td>326</td>\n",
       "    </tr>\n",
       "    <tr>\n",
       "      <th>2</th>\n",
       "      <td>3</td>\n",
       "      <td>0.23</td>\n",
       "      <td>Good</td>\n",
       "      <td>E</td>\n",
       "      <td>VS1</td>\n",
       "      <td>56.9</td>\n",
       "      <td>65.0</td>\n",
       "      <td>4.05</td>\n",
       "      <td>4.07</td>\n",
       "      <td>2.31</td>\n",
       "      <td>327</td>\n",
       "    </tr>\n",
       "    <tr>\n",
       "      <th>3</th>\n",
       "      <td>4</td>\n",
       "      <td>0.29</td>\n",
       "      <td>Premium</td>\n",
       "      <td>I</td>\n",
       "      <td>VS2</td>\n",
       "      <td>62.4</td>\n",
       "      <td>58.0</td>\n",
       "      <td>4.20</td>\n",
       "      <td>4.23</td>\n",
       "      <td>2.63</td>\n",
       "      <td>334</td>\n",
       "    </tr>\n",
       "    <tr>\n",
       "      <th>4</th>\n",
       "      <td>5</td>\n",
       "      <td>0.31</td>\n",
       "      <td>Good</td>\n",
       "      <td>J</td>\n",
       "      <td>SI2</td>\n",
       "      <td>63.3</td>\n",
       "      <td>58.0</td>\n",
       "      <td>4.34</td>\n",
       "      <td>4.35</td>\n",
       "      <td>2.75</td>\n",
       "      <td>335</td>\n",
       "    </tr>\n",
       "  </tbody>\n",
       "</table>\n",
       "</div>"
      ],
      "text/plain": [
       "   Unnamed: 0  carat      cut color clarity  depth  table     x     y     z  \\\n",
       "0           1   0.23    Ideal     E     SI2   61.5   55.0  3.95  3.98  2.43   \n",
       "1           2   0.21  Premium     E     SI1   59.8   61.0  3.89  3.84  2.31   \n",
       "2           3   0.23     Good     E     VS1   56.9   65.0  4.05  4.07  2.31   \n",
       "3           4   0.29  Premium     I     VS2   62.4   58.0  4.20  4.23  2.63   \n",
       "4           5   0.31     Good     J     SI2   63.3   58.0  4.34  4.35  2.75   \n",
       "\n",
       "   price  \n",
       "0    326  \n",
       "1    326  \n",
       "2    327  \n",
       "3    334  \n",
       "4    335  "
      ]
     },
     "execution_count": 2,
     "metadata": {},
     "output_type": "execute_result"
    }
   ],
   "source": [
    "diamonds = pd.read_csv(\"/Users/viyankamoodley/Desktop/Ass4-data/Part 1 - regression/diamonds.csv\")\n",
    "diamonds.head()"
   ]
  },
  {
   "cell_type": "code",
   "execution_count": 3,
   "metadata": {},
   "outputs": [
    {
     "data": {
      "text/plain": [
       "Unnamed: 0    0\n",
       "carat         0\n",
       "cut           0\n",
       "color         0\n",
       "clarity       0\n",
       "depth         0\n",
       "table         0\n",
       "x             0\n",
       "y             0\n",
       "z             0\n",
       "price         0\n",
       "dtype: int64"
      ]
     },
     "execution_count": 3,
     "metadata": {},
     "output_type": "execute_result"
    }
   ],
   "source": [
    "diamonds.isnull().sum()"
   ]
  },
  {
   "cell_type": "markdown",
   "metadata": {},
   "source": [
    "At first glance, the data looks quite clean - no apparent null values for any of the variables. I will investigate each variable further and will check for any unusual variables that could be a placeholder for null entries."
   ]
  },
  {
   "cell_type": "code",
   "execution_count": 4,
   "metadata": {},
   "outputs": [
    {
     "name": "stdout",
     "output_type": "stream",
     "text": [
      "<class 'pandas.core.frame.DataFrame'>\n",
      "RangeIndex: 53940 entries, 0 to 53939\n",
      "Data columns (total 11 columns):\n",
      " #   Column      Non-Null Count  Dtype  \n",
      "---  ------      --------------  -----  \n",
      " 0   Unnamed: 0  53940 non-null  int64  \n",
      " 1   carat       53940 non-null  float64\n",
      " 2   cut         53940 non-null  object \n",
      " 3   color       53940 non-null  object \n",
      " 4   clarity     53940 non-null  object \n",
      " 5   depth       53940 non-null  float64\n",
      " 6   table       53940 non-null  float64\n",
      " 7   x           53940 non-null  float64\n",
      " 8   y           53940 non-null  float64\n",
      " 9   z           53940 non-null  float64\n",
      " 10  price       53940 non-null  int64  \n",
      "dtypes: float64(6), int64(2), object(3)\n",
      "memory usage: 4.5+ MB\n"
     ]
    }
   ],
   "source": [
    "diamonds.info()"
   ]
  },
  {
   "cell_type": "markdown",
   "metadata": {},
   "source": [
    "The diamonds data has 11 columns, 3 of which are categorical input variables that describe the \"cut\", \"color\" and \"clarity\" of a diamond. The remaining 88 variables are numerical, with 2 variables as integer data types and 6 as floating-point data types. The integer data columns are \"Unnamed: 0\" and the output variable \"price\". The floating-point columns are input values: \"carat\", \"depth\", \"table\", \"x\", \"y\" and \"z\". In total there are 59,940 rows/entries. \n",
    "\n",
    "I will now have a look at the values of the categorical variables and the descriptive statistics of the numerical ones. "
   ]
  },
  {
   "cell_type": "code",
   "execution_count": 5,
   "metadata": {},
   "outputs": [
    {
     "data": {
      "text/plain": [
       "cut\n",
       "Ideal        21551\n",
       "Premium      13791\n",
       "Very Good    12082\n",
       "Good          4906\n",
       "Fair          1610\n",
       "Name: count, dtype: int64"
      ]
     },
     "execution_count": 5,
     "metadata": {},
     "output_type": "execute_result"
    }
   ],
   "source": [
    "diamonds[\"cut\"].value_counts()"
   ]
  },
  {
   "cell_type": "markdown",
   "metadata": {},
   "source": [
    "No unusual values here, no evidence to suggest placeholder null values. The values appear to represent a measure of the quality of a diamond's cut, I'd say it is a an ordinal categorical variable. It is interesting that the higher the quality of a cut, the more popular it is(as seen by the higher value counts). This suggests that ideal cuts are not uncommon. I did research and found that this particular feature of a diamond is one of the few that are not reliant on 'nature', a diamond's cut is generally cleaved/cut by hand or machine, meaning that cut is one of the few features that can be 'controlled'. source: https://brite.co/blog/how-are-diamonds-cut/#:~:text=First%2C%20there%20are%20two%20main,but%20have%20brittle%20parts%20too."
   ]
  },
  {
   "cell_type": "code",
   "execution_count": 6,
   "metadata": {},
   "outputs": [
    {
     "data": {
      "text/plain": [
       "clarity\n",
       "SI1     13065\n",
       "VS2     12258\n",
       "SI2      9194\n",
       "VS1      8171\n",
       "VVS2     5066\n",
       "VVS1     3655\n",
       "IF       1790\n",
       "I1        741\n",
       "Name: count, dtype: int64"
      ]
     },
     "execution_count": 6,
     "metadata": {},
     "output_type": "execute_result"
    }
   ],
   "source": [
    "diamonds[\"clarity\"].value_counts()\n",
    "\n"
   ]
  },
  {
   "cell_type": "markdown",
   "metadata": {},
   "source": [
    "As before, no unusual values here so no evidence to suggest placeholder null values. I will discuss the meaning of these labels further in my report. The main categories have a ranking that is related to the amount of 'inclusions\" (aka, visible imperfections) a diamond has, they are listed in ascending order in terms of clarity: I1 = Included,  SI1 & SI2 = Slight Inclusions, VS1 & VS2 = Very Slight Inclusions, VVS1 & VVS2 = Very Very Slight Inclusions and IF = Internally Flawless. reference: https://novitadiamonds.co.nz/diamond-4cs-diamond-4cs-chart-4-cs-of-diamonds-4cs-diamond?gad_source=1&gclid=Cj0KCQjwu-63BhC9ARIsAMMTLXSfXEJd586Lg3nNIaPHKm5ky5WDFeUinCl4p9zvtBFcs2fSTlFj5DYaAgMKEALw_wcB\n",
    "\n",
    "It is interesting to me that diamonds with both the lowest and highest clarity ratings, are the least popular. Probably because people generally wouldn't want to buy a diamond with many visible imperfections, but also may not be able to afford the 'flawless' diamonds. There is no apparent pattern here, most people tend to buy slightly included or very slightly included diamonds, probably because while customers value clarity for it's lack of visual imperfections, there are other factors to consider in terms of affordability. By compromising on a clear diamond, you can potentially afford to get a larger diamond a better cut/colour."
   ]
  },
  {
   "cell_type": "code",
   "execution_count": 7,
   "metadata": {},
   "outputs": [
    {
     "data": {
      "text/plain": [
       "color\n",
       "G    11292\n",
       "E     9797\n",
       "F     9542\n",
       "H     8304\n",
       "D     6775\n",
       "I     5422\n",
       "J     2808\n",
       "Name: count, dtype: int64"
      ]
     },
     "execution_count": 7,
     "metadata": {},
     "output_type": "execute_result"
    }
   ],
   "source": [
    "diamonds[\"color\"].value_counts()"
   ]
  },
  {
   "cell_type": "markdown",
   "metadata": {},
   "source": [
    "No evidence of null values/unsual variables. I did research to contextualise what this means. A diamond's colour ranges from colourless to yellor/brown and is represented by letters of the alphabet from \"D\" to \"Z\". D, E and F are \"colourless\" diamonds, they are the rarest and are the most expensive. G and H are \"nearly colourless\", they have a slight tint, but it is not really noticeable to the naked eye, they are the most popular. The lowest classification is I and J, they are the most common and have a \"very faint colour\", the tint in these diamonds is slightly more noticable than the previous tier. \n",
    "\n",
    "Here we can see that the most popular diamonds are \"G\", \"E\" and \"F\" and the least popular are \"J\", \"I\" and \"D\". This makes sense because as discussed previoulsy, colourless diamonds are generally the most sought after, but also the most expensive. G is the most popular and is \"nearly colourless\" which is a more affordable option that is still visually close to 'colourless'. E and F, follow behind, likely because they are more expensive, but still highly sought after, D has one of the lowest counts, likely because of it's rarity and steep cost."
   ]
  },
  {
   "cell_type": "code",
   "execution_count": 8,
   "metadata": {},
   "outputs": [
    {
     "data": {
      "text/html": [
       "<div>\n",
       "<style scoped>\n",
       "    .dataframe tbody tr th:only-of-type {\n",
       "        vertical-align: middle;\n",
       "    }\n",
       "\n",
       "    .dataframe tbody tr th {\n",
       "        vertical-align: top;\n",
       "    }\n",
       "\n",
       "    .dataframe thead th {\n",
       "        text-align: right;\n",
       "    }\n",
       "</style>\n",
       "<table border=\"1\" class=\"dataframe\">\n",
       "  <thead>\n",
       "    <tr style=\"text-align: right;\">\n",
       "      <th></th>\n",
       "      <th>Unnamed: 0</th>\n",
       "      <th>carat</th>\n",
       "      <th>depth</th>\n",
       "      <th>table</th>\n",
       "      <th>x</th>\n",
       "      <th>y</th>\n",
       "      <th>z</th>\n",
       "      <th>price</th>\n",
       "    </tr>\n",
       "  </thead>\n",
       "  <tbody>\n",
       "    <tr>\n",
       "      <th>count</th>\n",
       "      <td>53940.000000</td>\n",
       "      <td>53940.000000</td>\n",
       "      <td>53940.000000</td>\n",
       "      <td>53940.000000</td>\n",
       "      <td>53940.000000</td>\n",
       "      <td>53940.000000</td>\n",
       "      <td>53940.000000</td>\n",
       "      <td>53940.000000</td>\n",
       "    </tr>\n",
       "    <tr>\n",
       "      <th>mean</th>\n",
       "      <td>26970.500000</td>\n",
       "      <td>0.797940</td>\n",
       "      <td>61.749405</td>\n",
       "      <td>57.457184</td>\n",
       "      <td>5.731157</td>\n",
       "      <td>5.734526</td>\n",
       "      <td>3.538734</td>\n",
       "      <td>3932.799722</td>\n",
       "    </tr>\n",
       "    <tr>\n",
       "      <th>std</th>\n",
       "      <td>15571.281097</td>\n",
       "      <td>0.474011</td>\n",
       "      <td>1.432621</td>\n",
       "      <td>2.234491</td>\n",
       "      <td>1.121761</td>\n",
       "      <td>1.142135</td>\n",
       "      <td>0.705699</td>\n",
       "      <td>3989.439738</td>\n",
       "    </tr>\n",
       "    <tr>\n",
       "      <th>min</th>\n",
       "      <td>1.000000</td>\n",
       "      <td>0.200000</td>\n",
       "      <td>43.000000</td>\n",
       "      <td>43.000000</td>\n",
       "      <td>0.000000</td>\n",
       "      <td>0.000000</td>\n",
       "      <td>0.000000</td>\n",
       "      <td>326.000000</td>\n",
       "    </tr>\n",
       "    <tr>\n",
       "      <th>25%</th>\n",
       "      <td>13485.750000</td>\n",
       "      <td>0.400000</td>\n",
       "      <td>61.000000</td>\n",
       "      <td>56.000000</td>\n",
       "      <td>4.710000</td>\n",
       "      <td>4.720000</td>\n",
       "      <td>2.910000</td>\n",
       "      <td>950.000000</td>\n",
       "    </tr>\n",
       "    <tr>\n",
       "      <th>50%</th>\n",
       "      <td>26970.500000</td>\n",
       "      <td>0.700000</td>\n",
       "      <td>61.800000</td>\n",
       "      <td>57.000000</td>\n",
       "      <td>5.700000</td>\n",
       "      <td>5.710000</td>\n",
       "      <td>3.530000</td>\n",
       "      <td>2401.000000</td>\n",
       "    </tr>\n",
       "    <tr>\n",
       "      <th>75%</th>\n",
       "      <td>40455.250000</td>\n",
       "      <td>1.040000</td>\n",
       "      <td>62.500000</td>\n",
       "      <td>59.000000</td>\n",
       "      <td>6.540000</td>\n",
       "      <td>6.540000</td>\n",
       "      <td>4.040000</td>\n",
       "      <td>5324.250000</td>\n",
       "    </tr>\n",
       "    <tr>\n",
       "      <th>max</th>\n",
       "      <td>53940.000000</td>\n",
       "      <td>5.010000</td>\n",
       "      <td>79.000000</td>\n",
       "      <td>95.000000</td>\n",
       "      <td>10.740000</td>\n",
       "      <td>58.900000</td>\n",
       "      <td>31.800000</td>\n",
       "      <td>18823.000000</td>\n",
       "    </tr>\n",
       "  </tbody>\n",
       "</table>\n",
       "</div>"
      ],
      "text/plain": [
       "         Unnamed: 0         carat         depth         table             x  \\\n",
       "count  53940.000000  53940.000000  53940.000000  53940.000000  53940.000000   \n",
       "mean   26970.500000      0.797940     61.749405     57.457184      5.731157   \n",
       "std    15571.281097      0.474011      1.432621      2.234491      1.121761   \n",
       "min        1.000000      0.200000     43.000000     43.000000      0.000000   \n",
       "25%    13485.750000      0.400000     61.000000     56.000000      4.710000   \n",
       "50%    26970.500000      0.700000     61.800000     57.000000      5.700000   \n",
       "75%    40455.250000      1.040000     62.500000     59.000000      6.540000   \n",
       "max    53940.000000      5.010000     79.000000     95.000000     10.740000   \n",
       "\n",
       "                  y             z         price  \n",
       "count  53940.000000  53940.000000  53940.000000  \n",
       "mean       5.734526      3.538734   3932.799722  \n",
       "std        1.142135      0.705699   3989.439738  \n",
       "min        0.000000      0.000000    326.000000  \n",
       "25%        4.720000      2.910000    950.000000  \n",
       "50%        5.710000      3.530000   2401.000000  \n",
       "75%        6.540000      4.040000   5324.250000  \n",
       "max       58.900000     31.800000  18823.000000  "
      ]
     },
     "execution_count": 8,
     "metadata": {},
     "output_type": "execute_result"
    }
   ],
   "source": [
    "diamonds.describe()"
   ]
  },
  {
   "cell_type": "markdown",
   "metadata": {},
   "source": [
    "Interesting. The column \"Unnamed: 0\" has a min of \"1\" and a max of \"53940\", which seems like it's an index column. I will check the length of it's unique values afterward to validate this assumption. "
   ]
  },
  {
   "cell_type": "code",
   "execution_count": 9,
   "metadata": {},
   "outputs": [
    {
     "data": {
      "text/plain": [
       "53940"
      ]
     },
     "execution_count": 9,
     "metadata": {},
     "output_type": "execute_result"
    }
   ],
   "source": [
    "## checking to see how many unique values there are\n",
    "#if the result matches the number of rows in the dataset, then i will drop this col in preprocessing\n",
    "len(diamonds[\"Unnamed: 0\"].unique())"
   ]
  },
  {
   "cell_type": "code",
   "execution_count": 10,
   "metadata": {},
   "outputs": [
    {
     "name": "stdout",
     "output_type": "stream",
     "text": [
      "0        False\n",
      "1        False\n",
      "2        False\n",
      "3        False\n",
      "4        False\n",
      "         ...  \n",
      "53935    False\n",
      "53936    False\n",
      "53937    False\n",
      "53938    False\n",
      "53939    False\n",
      "Length: 53940, dtype: bool\n"
     ]
    }
   ],
   "source": [
    "duplicate_rows = diamonds.duplicated()\n",
    "\n",
    "# print duplicate rows\n",
    "print(duplicate_rows)"
   ]
  },
  {
   "cell_type": "code",
   "execution_count": 11,
   "metadata": {},
   "outputs": [
    {
     "data": {
      "text/plain": [
       "False    53940\n",
       "Name: count, dtype: int64"
      ]
     },
     "execution_count": 11,
     "metadata": {},
     "output_type": "execute_result"
    }
   ],
   "source": [
    "duplicate_rows.value_counts()"
   ]
  },
  {
   "cell_type": "markdown",
   "metadata": {},
   "source": [
    "No duplicate rows, data is clean. "
   ]
  },
  {
   "cell_type": "code",
   "execution_count": null,
   "metadata": {},
   "outputs": [],
   "source": []
  },
  {
   "cell_type": "markdown",
   "metadata": {},
   "source": [
    "# Initial preprocessing for EDA"
   ]
  },
  {
   "cell_type": "code",
   "execution_count": 12,
   "metadata": {},
   "outputs": [
    {
     "data": {
      "text/html": [
       "<div>\n",
       "<style scoped>\n",
       "    .dataframe tbody tr th:only-of-type {\n",
       "        vertical-align: middle;\n",
       "    }\n",
       "\n",
       "    .dataframe tbody tr th {\n",
       "        vertical-align: top;\n",
       "    }\n",
       "\n",
       "    .dataframe thead th {\n",
       "        text-align: right;\n",
       "    }\n",
       "</style>\n",
       "<table border=\"1\" class=\"dataframe\">\n",
       "  <thead>\n",
       "    <tr style=\"text-align: right;\">\n",
       "      <th></th>\n",
       "      <th>carat</th>\n",
       "      <th>cut</th>\n",
       "      <th>color</th>\n",
       "      <th>clarity</th>\n",
       "      <th>depth</th>\n",
       "      <th>table</th>\n",
       "      <th>x</th>\n",
       "      <th>y</th>\n",
       "      <th>z</th>\n",
       "      <th>price</th>\n",
       "    </tr>\n",
       "  </thead>\n",
       "  <tbody>\n",
       "    <tr>\n",
       "      <th>0</th>\n",
       "      <td>0.23</td>\n",
       "      <td>Ideal</td>\n",
       "      <td>E</td>\n",
       "      <td>SI2</td>\n",
       "      <td>61.5</td>\n",
       "      <td>55.0</td>\n",
       "      <td>3.95</td>\n",
       "      <td>3.98</td>\n",
       "      <td>2.43</td>\n",
       "      <td>326</td>\n",
       "    </tr>\n",
       "    <tr>\n",
       "      <th>1</th>\n",
       "      <td>0.21</td>\n",
       "      <td>Premium</td>\n",
       "      <td>E</td>\n",
       "      <td>SI1</td>\n",
       "      <td>59.8</td>\n",
       "      <td>61.0</td>\n",
       "      <td>3.89</td>\n",
       "      <td>3.84</td>\n",
       "      <td>2.31</td>\n",
       "      <td>326</td>\n",
       "    </tr>\n",
       "    <tr>\n",
       "      <th>2</th>\n",
       "      <td>0.23</td>\n",
       "      <td>Good</td>\n",
       "      <td>E</td>\n",
       "      <td>VS1</td>\n",
       "      <td>56.9</td>\n",
       "      <td>65.0</td>\n",
       "      <td>4.05</td>\n",
       "      <td>4.07</td>\n",
       "      <td>2.31</td>\n",
       "      <td>327</td>\n",
       "    </tr>\n",
       "    <tr>\n",
       "      <th>3</th>\n",
       "      <td>0.29</td>\n",
       "      <td>Premium</td>\n",
       "      <td>I</td>\n",
       "      <td>VS2</td>\n",
       "      <td>62.4</td>\n",
       "      <td>58.0</td>\n",
       "      <td>4.20</td>\n",
       "      <td>4.23</td>\n",
       "      <td>2.63</td>\n",
       "      <td>334</td>\n",
       "    </tr>\n",
       "    <tr>\n",
       "      <th>4</th>\n",
       "      <td>0.31</td>\n",
       "      <td>Good</td>\n",
       "      <td>J</td>\n",
       "      <td>SI2</td>\n",
       "      <td>63.3</td>\n",
       "      <td>58.0</td>\n",
       "      <td>4.34</td>\n",
       "      <td>4.35</td>\n",
       "      <td>2.75</td>\n",
       "      <td>335</td>\n",
       "    </tr>\n",
       "  </tbody>\n",
       "</table>\n",
       "</div>"
      ],
      "text/plain": [
       "   carat      cut color clarity  depth  table     x     y     z  price\n",
       "0   0.23    Ideal     E     SI2   61.5   55.0  3.95  3.98  2.43    326\n",
       "1   0.21  Premium     E     SI1   59.8   61.0  3.89  3.84  2.31    326\n",
       "2   0.23     Good     E     VS1   56.9   65.0  4.05  4.07  2.31    327\n",
       "3   0.29  Premium     I     VS2   62.4   58.0  4.20  4.23  2.63    334\n",
       "4   0.31     Good     J     SI2   63.3   58.0  4.34  4.35  2.75    335"
      ]
     },
     "execution_count": 12,
     "metadata": {},
     "output_type": "execute_result"
    }
   ],
   "source": [
    "# this is just a reduced version of the data before splitting and doing eda\n",
    "diamonds_reduced = diamonds.drop([\"Unnamed: 0\"], axis=1)\n",
    "diamonds_reduced.head()"
   ]
  },
  {
   "cell_type": "code",
   "execution_count": 13,
   "metadata": {},
   "outputs": [],
   "source": [
    "# Splitting diamonds data into train and test sets so that I can work on the eda without forming bias/data leakage\n",
    "from sklearn.model_selection import train_test_split\n",
    "X=diamonds_reduced.drop(['price'], axis=1)\n",
    "y=diamonds_reduced['price']\n",
    "X_train, X_test, y_train, y_test = train_test_split(X, y, test_size=0.3, random_state=309)"
   ]
  },
  {
   "cell_type": "code",
   "execution_count": 14,
   "metadata": {},
   "outputs": [
    {
     "data": {
      "text/html": [
       "<div>\n",
       "<style scoped>\n",
       "    .dataframe tbody tr th:only-of-type {\n",
       "        vertical-align: middle;\n",
       "    }\n",
       "\n",
       "    .dataframe tbody tr th {\n",
       "        vertical-align: top;\n",
       "    }\n",
       "\n",
       "    .dataframe thead th {\n",
       "        text-align: right;\n",
       "    }\n",
       "</style>\n",
       "<table border=\"1\" class=\"dataframe\">\n",
       "  <thead>\n",
       "    <tr style=\"text-align: right;\">\n",
       "      <th></th>\n",
       "      <th>carat</th>\n",
       "      <th>cut</th>\n",
       "      <th>color</th>\n",
       "      <th>clarity</th>\n",
       "      <th>depth</th>\n",
       "      <th>table</th>\n",
       "      <th>x</th>\n",
       "      <th>y</th>\n",
       "      <th>z</th>\n",
       "    </tr>\n",
       "  </thead>\n",
       "  <tbody>\n",
       "    <tr>\n",
       "      <th>36878</th>\n",
       "      <td>0.42</td>\n",
       "      <td>5</td>\n",
       "      <td>6</td>\n",
       "      <td>4</td>\n",
       "      <td>61.7</td>\n",
       "      <td>56.0</td>\n",
       "      <td>4.80</td>\n",
       "      <td>4.82</td>\n",
       "      <td>2.97</td>\n",
       "    </tr>\n",
       "    <tr>\n",
       "      <th>18820</th>\n",
       "      <td>1.03</td>\n",
       "      <td>5</td>\n",
       "      <td>4</td>\n",
       "      <td>7</td>\n",
       "      <td>61.7</td>\n",
       "      <td>56.0</td>\n",
       "      <td>6.45</td>\n",
       "      <td>6.56</td>\n",
       "      <td>4.00</td>\n",
       "    </tr>\n",
       "    <tr>\n",
       "      <th>53406</th>\n",
       "      <td>0.82</td>\n",
       "      <td>5</td>\n",
       "      <td>6</td>\n",
       "      <td>2</td>\n",
       "      <td>62.1</td>\n",
       "      <td>55.0</td>\n",
       "      <td>6.04</td>\n",
       "      <td>6.01</td>\n",
       "      <td>3.74</td>\n",
       "    </tr>\n",
       "    <tr>\n",
       "      <th>25954</th>\n",
       "      <td>1.40</td>\n",
       "      <td>5</td>\n",
       "      <td>4</td>\n",
       "      <td>7</td>\n",
       "      <td>60.8</td>\n",
       "      <td>57.0</td>\n",
       "      <td>7.21</td>\n",
       "      <td>7.23</td>\n",
       "      <td>4.39</td>\n",
       "    </tr>\n",
       "    <tr>\n",
       "      <th>13825</th>\n",
       "      <td>1.00</td>\n",
       "      <td>3</td>\n",
       "      <td>6</td>\n",
       "      <td>4</td>\n",
       "      <td>63.5</td>\n",
       "      <td>56.0</td>\n",
       "      <td>6.37</td>\n",
       "      <td>6.32</td>\n",
       "      <td>4.03</td>\n",
       "    </tr>\n",
       "  </tbody>\n",
       "</table>\n",
       "</div>"
      ],
      "text/plain": [
       "       carat  cut  color  clarity  depth  table     x     y     z\n",
       "36878   0.42    5      6        4   61.7   56.0  4.80  4.82  2.97\n",
       "18820   1.03    5      4        7   61.7   56.0  6.45  6.56  4.00\n",
       "53406   0.82    5      6        2   62.1   55.0  6.04  6.01  3.74\n",
       "25954   1.40    5      4        7   60.8   57.0  7.21  7.23  4.39\n",
       "13825   1.00    3      6        4   63.5   56.0  6.37  6.32  4.03"
      ]
     },
     "execution_count": 14,
     "metadata": {},
     "output_type": "execute_result"
    }
   ],
   "source": [
    "# working on a copy of the train\n",
    "# defining the order for each categorical feature\n",
    "X_train_encoded = X_train.copy()\n",
    "\n",
    "cut_mapping = {\"Fair\": 1, \"Good\": 2, \"Very Good\": 3, \"Premium\": 4, \"Ideal\": 5}\n",
    "# note, i wrote the order for color \"backwards\" to reflect the actual value of colour, rather than alphabetical order \n",
    "color_mapping = {\"D\": 7, \"E\": 6, \"F\": 5, \"G\": 4, \"H\": 3, \"I\": 2, \"J\": 1}\n",
    "clarity_mapping = {\"I1\": 1, \"SI2\": 2, \"SI1\": 3, \"VS2\": 4, \"VS1\": 5, \"VVS2\": 6, \"VVS1\": 7, \"IF\": 8}\n",
    "\n",
    "# applying the mappings to each col\n",
    "X_train_encoded['cut'] = X_train_encoded['cut'].map(cut_mapping)\n",
    "X_train_encoded['color'] = X_train_encoded['color'].map(color_mapping)\n",
    "X_train_encoded['clarity'] = X_train_encoded['clarity'].map(clarity_mapping)\n",
    "\n",
    "# Display the first few rows to check the encoding\n",
    "X_train_encoded.head()\n"
   ]
  },
  {
   "cell_type": "markdown",
   "metadata": {},
   "source": [
    "# eda"
   ]
  },
  {
   "cell_type": "code",
   "execution_count": 15,
   "metadata": {},
   "outputs": [
    {
     "data": {
      "text/html": [
       "<div>\n",
       "<style scoped>\n",
       "    .dataframe tbody tr th:only-of-type {\n",
       "        vertical-align: middle;\n",
       "    }\n",
       "\n",
       "    .dataframe tbody tr th {\n",
       "        vertical-align: top;\n",
       "    }\n",
       "\n",
       "    .dataframe thead th {\n",
       "        text-align: right;\n",
       "    }\n",
       "</style>\n",
       "<table border=\"1\" class=\"dataframe\">\n",
       "  <thead>\n",
       "    <tr style=\"text-align: right;\">\n",
       "      <th></th>\n",
       "      <th>carat</th>\n",
       "      <th>cut</th>\n",
       "      <th>color</th>\n",
       "      <th>clarity</th>\n",
       "      <th>depth</th>\n",
       "      <th>table</th>\n",
       "      <th>x</th>\n",
       "      <th>y</th>\n",
       "      <th>z</th>\n",
       "      <th>price</th>\n",
       "    </tr>\n",
       "  </thead>\n",
       "  <tbody>\n",
       "    <tr>\n",
       "      <th>36878</th>\n",
       "      <td>0.42</td>\n",
       "      <td>5</td>\n",
       "      <td>6</td>\n",
       "      <td>4</td>\n",
       "      <td>61.7</td>\n",
       "      <td>56.0</td>\n",
       "      <td>4.80</td>\n",
       "      <td>4.82</td>\n",
       "      <td>2.97</td>\n",
       "      <td>958</td>\n",
       "    </tr>\n",
       "    <tr>\n",
       "      <th>18820</th>\n",
       "      <td>1.03</td>\n",
       "      <td>5</td>\n",
       "      <td>4</td>\n",
       "      <td>7</td>\n",
       "      <td>61.7</td>\n",
       "      <td>56.0</td>\n",
       "      <td>6.45</td>\n",
       "      <td>6.56</td>\n",
       "      <td>4.00</td>\n",
       "      <td>7708</td>\n",
       "    </tr>\n",
       "    <tr>\n",
       "      <th>53406</th>\n",
       "      <td>0.82</td>\n",
       "      <td>5</td>\n",
       "      <td>6</td>\n",
       "      <td>2</td>\n",
       "      <td>62.1</td>\n",
       "      <td>55.0</td>\n",
       "      <td>6.04</td>\n",
       "      <td>6.01</td>\n",
       "      <td>3.74</td>\n",
       "      <td>2668</td>\n",
       "    </tr>\n",
       "    <tr>\n",
       "      <th>25954</th>\n",
       "      <td>1.40</td>\n",
       "      <td>5</td>\n",
       "      <td>4</td>\n",
       "      <td>7</td>\n",
       "      <td>60.8</td>\n",
       "      <td>57.0</td>\n",
       "      <td>7.21</td>\n",
       "      <td>7.23</td>\n",
       "      <td>4.39</td>\n",
       "      <td>15134</td>\n",
       "    </tr>\n",
       "    <tr>\n",
       "      <th>13825</th>\n",
       "      <td>1.00</td>\n",
       "      <td>3</td>\n",
       "      <td>6</td>\n",
       "      <td>4</td>\n",
       "      <td>63.5</td>\n",
       "      <td>56.0</td>\n",
       "      <td>6.37</td>\n",
       "      <td>6.32</td>\n",
       "      <td>4.03</td>\n",
       "      <td>5633</td>\n",
       "    </tr>\n",
       "  </tbody>\n",
       "</table>\n",
       "</div>"
      ],
      "text/plain": [
       "       carat  cut  color  clarity  depth  table     x     y     z  price\n",
       "36878   0.42    5      6        4   61.7   56.0  4.80  4.82  2.97    958\n",
       "18820   1.03    5      4        7   61.7   56.0  6.45  6.56  4.00   7708\n",
       "53406   0.82    5      6        2   62.1   55.0  6.04  6.01  3.74   2668\n",
       "25954   1.40    5      4        7   60.8   57.0  7.21  7.23  4.39  15134\n",
       "13825   1.00    3      6        4   63.5   56.0  6.37  6.32  4.03   5633"
      ]
     },
     "execution_count": 15,
     "metadata": {},
     "output_type": "execute_result"
    }
   ],
   "source": [
    "eda_data = X_train_encoded.copy()\n",
    "eda_data[\"price\"] = y_train\n",
    "eda_data.head()"
   ]
  },
  {
   "cell_type": "code",
   "execution_count": 16,
   "metadata": {},
   "outputs": [
    {
     "name": "stdout",
     "output_type": "stream",
     "text": [
      "<class 'pandas.core.frame.DataFrame'>\n",
      "Index: 37758 entries, 36878 to 14241\n",
      "Data columns (total 10 columns):\n",
      " #   Column   Non-Null Count  Dtype  \n",
      "---  ------   --------------  -----  \n",
      " 0   carat    37758 non-null  float64\n",
      " 1   cut      37758 non-null  int64  \n",
      " 2   color    37758 non-null  int64  \n",
      " 3   clarity  37758 non-null  int64  \n",
      " 4   depth    37758 non-null  float64\n",
      " 5   table    37758 non-null  float64\n",
      " 6   x        37758 non-null  float64\n",
      " 7   y        37758 non-null  float64\n",
      " 8   z        37758 non-null  float64\n",
      " 9   price    37758 non-null  int64  \n",
      "dtypes: float64(6), int64(4)\n",
      "memory usage: 3.2 MB\n"
     ]
    }
   ],
   "source": [
    "\n",
    "# checking basic info\n",
    "eda_data.info()\n"
   ]
  },
  {
   "cell_type": "code",
   "execution_count": 17,
   "metadata": {},
   "outputs": [
    {
     "data": {
      "text/html": [
       "<div>\n",
       "<style scoped>\n",
       "    .dataframe tbody tr th:only-of-type {\n",
       "        vertical-align: middle;\n",
       "    }\n",
       "\n",
       "    .dataframe tbody tr th {\n",
       "        vertical-align: top;\n",
       "    }\n",
       "\n",
       "    .dataframe thead th {\n",
       "        text-align: right;\n",
       "    }\n",
       "</style>\n",
       "<table border=\"1\" class=\"dataframe\">\n",
       "  <thead>\n",
       "    <tr style=\"text-align: right;\">\n",
       "      <th></th>\n",
       "      <th>carat</th>\n",
       "      <th>cut</th>\n",
       "      <th>color</th>\n",
       "      <th>clarity</th>\n",
       "      <th>depth</th>\n",
       "      <th>table</th>\n",
       "      <th>x</th>\n",
       "      <th>y</th>\n",
       "      <th>z</th>\n",
       "      <th>price</th>\n",
       "    </tr>\n",
       "  </thead>\n",
       "  <tbody>\n",
       "    <tr>\n",
       "      <th>count</th>\n",
       "      <td>37758.000000</td>\n",
       "      <td>37758.000000</td>\n",
       "      <td>37758.000000</td>\n",
       "      <td>37758.000000</td>\n",
       "      <td>37758.000000</td>\n",
       "      <td>37758.000000</td>\n",
       "      <td>37758.000000</td>\n",
       "      <td>37758.000000</td>\n",
       "      <td>37758.000000</td>\n",
       "      <td>37758.000000</td>\n",
       "    </tr>\n",
       "    <tr>\n",
       "      <th>mean</th>\n",
       "      <td>0.798166</td>\n",
       "      <td>3.903438</td>\n",
       "      <td>4.412045</td>\n",
       "      <td>4.047725</td>\n",
       "      <td>61.741557</td>\n",
       "      <td>57.458660</td>\n",
       "      <td>5.733020</td>\n",
       "      <td>5.737242</td>\n",
       "      <td>3.539638</td>\n",
       "      <td>3930.603130</td>\n",
       "    </tr>\n",
       "    <tr>\n",
       "      <th>std</th>\n",
       "      <td>0.472857</td>\n",
       "      <td>1.113829</td>\n",
       "      <td>1.700652</td>\n",
       "      <td>1.644924</td>\n",
       "      <td>1.426374</td>\n",
       "      <td>2.240281</td>\n",
       "      <td>1.120184</td>\n",
       "      <td>1.152877</td>\n",
       "      <td>0.708507</td>\n",
       "      <td>3973.019456</td>\n",
       "    </tr>\n",
       "    <tr>\n",
       "      <th>min</th>\n",
       "      <td>0.200000</td>\n",
       "      <td>1.000000</td>\n",
       "      <td>1.000000</td>\n",
       "      <td>1.000000</td>\n",
       "      <td>43.000000</td>\n",
       "      <td>43.000000</td>\n",
       "      <td>0.000000</td>\n",
       "      <td>0.000000</td>\n",
       "      <td>0.000000</td>\n",
       "      <td>327.000000</td>\n",
       "    </tr>\n",
       "    <tr>\n",
       "      <th>25%</th>\n",
       "      <td>0.400000</td>\n",
       "      <td>3.000000</td>\n",
       "      <td>3.000000</td>\n",
       "      <td>3.000000</td>\n",
       "      <td>61.000000</td>\n",
       "      <td>56.000000</td>\n",
       "      <td>4.720000</td>\n",
       "      <td>4.720000</td>\n",
       "      <td>2.910000</td>\n",
       "      <td>953.000000</td>\n",
       "    </tr>\n",
       "    <tr>\n",
       "      <th>50%</th>\n",
       "      <td>0.700000</td>\n",
       "      <td>4.000000</td>\n",
       "      <td>4.000000</td>\n",
       "      <td>4.000000</td>\n",
       "      <td>61.800000</td>\n",
       "      <td>57.000000</td>\n",
       "      <td>5.700000</td>\n",
       "      <td>5.710000</td>\n",
       "      <td>3.530000</td>\n",
       "      <td>2409.000000</td>\n",
       "    </tr>\n",
       "    <tr>\n",
       "      <th>75%</th>\n",
       "      <td>1.040000</td>\n",
       "      <td>5.000000</td>\n",
       "      <td>6.000000</td>\n",
       "      <td>5.000000</td>\n",
       "      <td>62.500000</td>\n",
       "      <td>59.000000</td>\n",
       "      <td>6.540000</td>\n",
       "      <td>6.540000</td>\n",
       "      <td>4.040000</td>\n",
       "      <td>5330.000000</td>\n",
       "    </tr>\n",
       "    <tr>\n",
       "      <th>max</th>\n",
       "      <td>5.010000</td>\n",
       "      <td>5.000000</td>\n",
       "      <td>7.000000</td>\n",
       "      <td>8.000000</td>\n",
       "      <td>79.000000</td>\n",
       "      <td>95.000000</td>\n",
       "      <td>10.740000</td>\n",
       "      <td>58.900000</td>\n",
       "      <td>31.800000</td>\n",
       "      <td>18823.000000</td>\n",
       "    </tr>\n",
       "  </tbody>\n",
       "</table>\n",
       "</div>"
      ],
      "text/plain": [
       "              carat           cut         color       clarity         depth  \\\n",
       "count  37758.000000  37758.000000  37758.000000  37758.000000  37758.000000   \n",
       "mean       0.798166      3.903438      4.412045      4.047725     61.741557   \n",
       "std        0.472857      1.113829      1.700652      1.644924      1.426374   \n",
       "min        0.200000      1.000000      1.000000      1.000000     43.000000   \n",
       "25%        0.400000      3.000000      3.000000      3.000000     61.000000   \n",
       "50%        0.700000      4.000000      4.000000      4.000000     61.800000   \n",
       "75%        1.040000      5.000000      6.000000      5.000000     62.500000   \n",
       "max        5.010000      5.000000      7.000000      8.000000     79.000000   \n",
       "\n",
       "              table             x             y             z         price  \n",
       "count  37758.000000  37758.000000  37758.000000  37758.000000  37758.000000  \n",
       "mean      57.458660      5.733020      5.737242      3.539638   3930.603130  \n",
       "std        2.240281      1.120184      1.152877      0.708507   3973.019456  \n",
       "min       43.000000      0.000000      0.000000      0.000000    327.000000  \n",
       "25%       56.000000      4.720000      4.720000      2.910000    953.000000  \n",
       "50%       57.000000      5.700000      5.710000      3.530000   2409.000000  \n",
       "75%       59.000000      6.540000      6.540000      4.040000   5330.000000  \n",
       "max       95.000000     10.740000     58.900000     31.800000  18823.000000  "
      ]
     },
     "execution_count": 17,
     "metadata": {},
     "output_type": "execute_result"
    }
   ],
   "source": [
    "#checking numeric features\n",
    "eda_data.describe()\n"
   ]
  },
  {
   "cell_type": "markdown",
   "metadata": {},
   "source": [
    "- 'carat' has a min of 0.2 and a max of 5.01, its mean is around 0.8, which makes me think there could be a few extreme outliers. . depth aand table have the same min value, value ranges seem plausible for the variable types.   \n",
    "- The values for 'x', 'y' and 'z' all have min values of 0, which doesn't make sense given they represent a diamond's measurements. \n",
    "- additionally, both y and z have a huge differences between the max value and the third quartile value, suggesting outliers – i will visualise these to get a better understanding, before moving forward.  \n"
   ]
  },
  {
   "cell_type": "code",
   "execution_count": 48,
   "metadata": {},
   "outputs": [
    {
     "data": {
      "image/png": "[encoded data removed]",
      "text/plain": [
       "<Figure size 1000x600 with 1 Axes>"
      ]
     },
     "metadata": {},
     "output_type": "display_data"
    }
   ],
   "source": [
    "plt.figure(figsize=(10, 6))\n",
    "\n",
    "# Create the histogram with specified bin width (binwidth = 0.01)\n",
    "sns.histplot(eda_data['carat'], binwidth=0.01, color=\"skyblue\", edgecolor=\"black\")\n",
    "\n",
    "# Set x-axis range and labels\n",
    "plt.xlim(0.2, 2.2)\n",
    "plt.xlabel('Carat', fontsize=12)\n",
    "plt.ylabel('Frequency', fontsize=12)\n",
    "\n",
    "# Add title\n",
    "plt.title('Carat Distribution Histogram', fontsize=16)\n",
    "\n",
    "# Remove minor ticks (if any) and show the plot\n",
    "plt.minorticks_off()\n",
    "plt.show()"
   ]
  },
  {
   "cell_type": "markdown",
   "metadata": {},
   "source": [
    "This is interesting, there's a clear non-linear relationship here. Lots of steep fluctuations that will be difficult for linear models to capture. "
   ]
  },
  {
   "cell_type": "code",
   "execution_count": 18,
   "metadata": {},
   "outputs": [
    {
     "data": {
      "image/png": "[encoded data removed]",
      "text/plain": [
       "<Figure size 600x400 with 1 Axes>"
      ]
     },
     "metadata": {},
     "output_type": "display_data"
    },
    {
     "data": {
      "image/png": "[encoded data removed]",
      "text/plain": [
       "<Figure size 600x400 with 1 Axes>"
      ]
     },
     "metadata": {},
     "output_type": "display_data"
    },
    {
     "data": {
      "image/png": "[encoded data removed]",
      "text/plain": [
       "<Figure size 600x400 with 1 Axes>"
      ]
     },
     "metadata": {},
     "output_type": "display_data"
    },
    {
     "data": {
      "image/png": "[encoded data removed]",
      "text/plain": [
       "<Figure size 600x400 with 1 Axes>"
      ]
     },
     "metadata": {},
     "output_type": "display_data"
    },
    {
     "data": {
      "image/png": "[encoded data removed]",
      "text/plain": [
       "<Figure size 600x400 with 1 Axes>"
      ]
     },
     "metadata": {},
     "output_type": "display_data"
    },
    {
     "data": {
      "image/png": "[encoded data removed]",
      "text/plain": [
       "<Figure size 600x400 with 1 Axes>"
      ]
     },
     "metadata": {},
     "output_type": "display_data"
    },
    {
     "data": {
      "image/png": "[encoded data removed]",
      "text/plain": [
       "<Figure size 600x400 with 1 Axes>"
      ]
     },
     "metadata": {},
     "output_type": "display_data"
    }
   ],
   "source": [
    "# boxplot to visualise distribution of 'x'\n",
    "plt.figure(figsize=(6, 4))\n",
    "sns.boxplot(x=eda_data['x'])\n",
    "plt.title('Boxplot of x')\n",
    "plt.show()\n",
    "\n",
    "# boxplot to visualise distribution of 'y'\n",
    "plt.figure(figsize=(6, 4))\n",
    "sns.boxplot(x=eda_data['y'])\n",
    "plt.title('Boxplot of y')\n",
    "plt.show()\n",
    "\n",
    "# boxplot to visualise distribution of 'z'\n",
    "plt.figure(figsize=(6, 4))\n",
    "sns.boxplot(x=eda_data['z'])\n",
    "plt.title('Boxplot of z')\n",
    "plt.show()\n",
    "\n",
    " # boxplot to visualise distribution of 'price'\n",
    "plt.figure(figsize=(6, 4))\n",
    "sns.boxplot(x=eda_data['price'])\n",
    "plt.title('Boxplot of Price')\n",
    "plt.show()\n",
    " # boxplot to visualise distribution of 'carat'\n",
    "plt.figure(figsize=(6, 4))\n",
    "sns.boxplot(x=eda_data['carat'])\n",
    "plt.title('Boxplot of carat')\n",
    "plt.show()\n",
    "\n",
    "# boxplot to visualise distribution of 'depth'\n",
    "plt.figure(figsize=(6, 4))\n",
    "sns.boxplot(x=eda_data['depth'])\n",
    "plt.title('Boxplot of depth')\n",
    "plt.show()\n",
    "\n",
    "# boxplot to visualise distribution of 'table'\n",
    "plt.figure(figsize=(6, 4))\n",
    "sns.boxplot(x=eda_data['table'])\n",
    "plt.title('Boxplot of table')\n",
    "plt.show()"
   ]
  },
  {
   "cell_type": "markdown",
   "metadata": {},
   "source": [
    "Interesting... The x, y and z variables all have \"0\" as an outlier, this makes sense given that it's not really possible to have a diamond with 0 as a measure of its proportions... x's upper outliers aren't too concerning, however the same annot be said for y and z... There appears to be some cases of extreme outliers with unsually large y and z values. Carat, depth and table have some extreme outliers too... for preprocessing I will need to handle this..."
   ]
  },
  {
   "cell_type": "code",
   "execution_count": 19,
   "metadata": {},
   "outputs": [
    {
     "data": {
      "image/png": "[encoded data removed]",
      "text/plain": [
       "<Figure size 1200x800 with 2 Axes>"
      ]
     },
     "metadata": {},
     "output_type": "display_data"
    }
   ],
   "source": [
    "#visualising correlations\n",
    "corr_matrix = eda_data.corr()\n",
    "\n",
    "# Plot the correlation matrix using a heatmap\n",
    "plt.figure(figsize=(12, 8))\n",
    "sns.heatmap(corr_matrix, annot=True, cmap='coolwarm')\n",
    "plt.title('Correlation Matrix Heatmap')\n",
    "plt.show()"
   ]
  },
  {
   "cell_type": "markdown",
   "metadata": {},
   "source": [
    "The correlation matrix shows that x,y and z have a very strong positive correlation with price. However, they also have very high interactions with each other as well as carat... The correlation with carat makes sense given that x, y and z are all measures that relate to the size of a diamond and the greater the values of x,y or z, the greater the value of carat. Multicollinearity weakens the statitical power in regression models because it reduces the precison of coefficients.  I will need to remove these variables in preprocessing. \n",
    "\n",
    "source= https://statisticsbyjim.com/regression/multicollinearity-in-regression-analysis/#:~:text=Multicollinearity%20reduces%20the%20precision%20of,variables%20that%20are%20statistically%20significant. "
   ]
  },
  {
   "cell_type": "code",
   "execution_count": 20,
   "metadata": {},
   "outputs": [
    {
     "data": {
      "text/plain": [
       "2.17"
      ]
     },
     "execution_count": 20,
     "metadata": {},
     "output_type": "execute_result"
    }
   ],
   "source": [
    "#checking to see where the 99th percentile of the numeric variables are\n",
    "carat_99th_percentile = eda_data['carat'].quantile(0.99)\n",
    "\n",
    "carat_99th_percentile"
   ]
  },
  {
   "cell_type": "code",
   "execution_count": 21,
   "metadata": {},
   "outputs": [
    {
     "data": {
      "text/plain": [
       "65.5"
      ]
     },
     "execution_count": 21,
     "metadata": {},
     "output_type": "execute_result"
    }
   ],
   "source": [
    "depth_99th_percentile = eda_data['depth'].quantile(0.99)\n",
    "depth_99th_percentile "
   ]
  },
  {
   "cell_type": "code",
   "execution_count": 22,
   "metadata": {},
   "outputs": [
    {
     "data": {
      "text/plain": [
       "64.0"
      ]
     },
     "execution_count": 22,
     "metadata": {},
     "output_type": "execute_result"
    }
   ],
   "source": [
    "table_99th_percentile = eda_data['table'].quantile(0.99)\n",
    "table_99th_percentile "
   ]
  },
  {
   "cell_type": "code",
   "execution_count": 23,
   "metadata": {},
   "outputs": [
    {
     "data": {
      "text/plain": [
       "8.354300000000002"
      ]
     },
     "execution_count": 23,
     "metadata": {},
     "output_type": "execute_result"
    }
   ],
   "source": [
    "x_99th_percentile = eda_data['x'].quantile(0.99)\n",
    "x_99th_percentile "
   ]
  },
  {
   "cell_type": "code",
   "execution_count": 24,
   "metadata": {},
   "outputs": [
    {
     "data": {
      "text/plain": [
       "8.34"
      ]
     },
     "execution_count": 24,
     "metadata": {},
     "output_type": "execute_result"
    }
   ],
   "source": [
    "y_99th_percentile = eda_data['y'].quantile(0.99)\n",
    "y_99th_percentile "
   ]
  },
  {
   "cell_type": "code",
   "execution_count": 25,
   "metadata": {},
   "outputs": [
    {
     "data": {
      "text/plain": [
       "5.14"
      ]
     },
     "execution_count": 25,
     "metadata": {},
     "output_type": "execute_result"
    }
   ],
   "source": [
    "z_99th_percentile = eda_data['z'].quantile(0.99)\n",
    "z_99th_percentile "
   ]
  },
  {
   "cell_type": "code",
   "execution_count": 26,
   "metadata": {},
   "outputs": [
    {
     "name": "stdout",
     "output_type": "stream",
     "text": [
      "Original dataset shape: (37758, 10)\n",
      "Dataset shape after removing outliers: (34602, 10)\n"
     ]
    }
   ],
   "source": [
    "def remove_outliers_iqrr(df, columnn):\n",
    "    # Calculate 1st and 99th percentiles for the column\n",
    "    lower_bound = df[columnn].quantile(0.01)\n",
    "    upper_bound = df[columnn].quantile(0.99)\n",
    "    \n",
    "    # Filter the dataframe\n",
    "    filtered_dff = df[(df[columnn] >= lower_bound) & (df[columnn] <= upper_bound)]\n",
    "    return filtered_dff\n",
    "\n",
    "# Copying the data to preserve the original\n",
    "qnt_99th_dataa = eda_data.copy()\n",
    "\n",
    "# List of columns of interest for outlier removal\n",
    "columns_of_interest = [ 'depth', 'table', 'x', 'y', 'z']\n",
    "\n",
    "# Iteratively remove outliers for each column in the list\n",
    "for columnn in columns_of_interest:\n",
    "    qnt_99th_dataa = remove_outliers_iqrr(qnt_99th_dataa, columnn)\n",
    "\n",
    "# Print shapes of the datasets\n",
    "print(\"Original dataset shape:\", eda_data.shape)\n",
    "print(\"Dataset shape after removing outliers:\", qnt_99th_dataa.shape)\n"
   ]
  },
  {
   "cell_type": "code",
   "execution_count": 27,
   "metadata": {},
   "outputs": [],
   "source": [
    "X_train_almost = qnt_99th_dataa.drop(['price'], axis=1)\n",
    "y_train_final = qnt_99th_dataa['price']"
   ]
  },
  {
   "cell_type": "code",
   "execution_count": 28,
   "metadata": {},
   "outputs": [
    {
     "name": "stdout",
     "output_type": "stream",
     "text": [
      "          carat  cut  color  clarity     depth    table         x         y  \\\n",
      "36878 -0.850182    5      6        4 -0.048996 -0.64980 -0.873587 -0.862384   \n",
      "18820  0.642062    5      4        7 -0.048996 -0.64980  0.742763  0.851934   \n",
      "53406  0.128339    5      6        2  0.279927 -1.13891  0.341124  0.310052   \n",
      "25954  1.547193    5      4        7 -0.789073 -0.16069  1.487263  1.512045   \n",
      "13825  0.568673    3      6        4  1.431159 -0.64980  0.664394  0.615476   \n",
      "\n",
      "              z  \n",
      "36878 -0.868001  \n",
      "18820  0.770163  \n",
      "53406  0.356646  \n",
      "25954  1.390438  \n",
      "13825  0.817876  \n"
     ]
    }
   ],
   "source": [
    "from sklearn.preprocessing import StandardScaler\n",
    "\n",
    "# List of columns that need to be standardized\n",
    "numeric_columns = ['carat', 'depth', 'table', 'x', 'y', 'z']\n",
    "\n",
    "# using linear scaling so that numeric features are standardises to the same scale\n",
    "scaler = StandardScaler()\n",
    "\n",
    "# Fit the scaler on the data and transform it\n",
    "X_train_almost[numeric_columns] = scaler.fit_transform(X_train_almost[numeric_columns])\n",
    "\n",
    "# Print a preview of the standardized data\n",
    "print(X_train_almost.head())\n"
   ]
  },
  {
   "cell_type": "markdown",
   "metadata": {},
   "source": [
    "Now preprocessing the test data"
   ]
  },
  {
   "cell_type": "code",
   "execution_count": 39,
   "metadata": {},
   "outputs": [
    {
     "name": "stdout",
     "output_type": "stream",
     "text": [
      "Original dataset shape: (16182, 10)\n",
      "Dataset shape after removing outliers: (14831, 10)\n",
      "          carat  cut  color  clarity     depth    table         x         y  \\\n",
      "48107 -0.654478    5      4        6 -1.035765 -1.13891 -0.530725 -0.556959   \n",
      "38948 -1.119275    2      2        5  1.677851 -0.64980 -1.392778 -1.355004   \n",
      "9301   0.568673    2      6        3  1.760082 -0.16069  0.605618  0.635181   \n",
      "9206   1.204711    1      2        2  2.500159 -0.16069  1.017052  0.980015   \n",
      "53638 -1.143738    5      7        3 -0.624611 -0.16069 -1.373186 -1.345152   \n",
      "\n",
      "              z  \n",
      "48107 -0.645338  \n",
      "38948 -1.233805  \n",
      "9301   0.833781  \n",
      "9206   1.326820  \n",
      "53638 -1.408754  \n"
     ]
    }
   ],
   "source": [
    "X_test_encoded = X_test.copy()\n",
    "\n",
    "cut_mapping = {\"Fair\": 1, \"Good\": 2, \"Very Good\": 3, \"Premium\": 4, \"Ideal\": 5}\n",
    "# note, i wrote the order for color \"backwards\" to reflect the actual value of colour, rather than alphabetical order \n",
    "color_mapping = {\"D\": 7, \"E\": 6, \"F\": 5, \"G\": 4, \"H\": 3, \"I\": 2, \"J\": 1}\n",
    "clarity_mapping = {\"I1\": 1, \"SI2\": 2, \"SI1\": 3, \"VS2\": 4, \"VS1\": 5, \"VVS2\": 6, \"VVS1\": 7, \"IF\": 8}\n",
    "\n",
    "# applying the mappings to each col\n",
    "X_test_encoded['cut'] = X_test_encoded['cut'].map(cut_mapping)\n",
    "X_test_encoded['color'] = X_test_encoded['color'].map(color_mapping)\n",
    "X_test_encoded['clarity'] = X_test_encoded['clarity'].map(clarity_mapping)\n",
    "\n",
    "# showing the first few rows to check the encoding\n",
    "\n",
    "X_test_encoded.head()\n",
    "\n",
    "test_data = X_test_encoded.copy()\n",
    "test_data['price'] = y_test\n",
    "\n",
    "def remove_outliers_iqrr(df, columnn):\n",
    "    # gettimg 1st and 99th percentiles for the column\n",
    "    lower_bound = df[columnn].quantile(0.01)\n",
    "    upper_bound = df[columnn].quantile(0.99)\n",
    "    \n",
    "    filtered_dff = df[(df[columnn] >= lower_bound) & (df[columnn] <= upper_bound)]\n",
    "    return filtered_dff\n",
    "\n",
    "# Copying the data to preserve the original\n",
    "qnt_99th_dataaa = X_test_encoded.copy()\n",
    "qnt_99th_dataaa['price'] = y_test\n",
    "\n",
    "columns_of_interest = [ 'depth', 'table', 'x', 'y', 'z']\n",
    "\n",
    "for columnn in columns_of_interest:\n",
    "    qnt_99th_dataaa = remove_outliers_iqrr(qnt_99th_dataaa, columnn)\n",
    "\n",
    "# print shapes of the datasets\n",
    "print(\"Original dataset shape:\", test_data.shape)\n",
    "print(\"Dataset shape after removing outliers:\", qnt_99th_dataaa.shape)\n",
    "\n",
    "X_test_final = qnt_99th_dataaa.drop(['price'], axis=1)\n",
    "y_test_final = qnt_99th_dataaa['price']\n",
    "# columns to be standardised\n",
    "numeric_columns = ['carat', 'depth', 'table', 'x', 'y', 'z']\n",
    "\n",
    "# using linear scaling so that numeric features are standardises to the same scale\n",
    "\n",
    "#  transforming without fitting\n",
    "X_test_final[numeric_columns] = scaler.transform(X_test_final[numeric_columns])\n",
    "\n",
    "print(X_test_final.head())\n"
   ]
  },
  {
   "cell_type": "markdown",
   "metadata": {},
   "source": [
    "# Modelling"
   ]
  },
  {
   "cell_type": "code",
   "execution_count": null,
   "metadata": {},
   "outputs": [],
   "source": [
    "from sklearn.linear_model import LinearRegression, Ridge, SGDRegressor\n",
    "from sklearn.neighbors import KNeighborsRegressor\n",
    "from sklearn.tree import DecisionTreeRegressor\n",
    "from sklearn.ensemble import RandomForestRegressor, GradientBoostingRegressor\n",
    "from sklearn.svm import SVR, LinearSVR\n",
    "from sklearn.neural_network import MLPRegressor\n",
    "from sklearn.metrics import mean_squared_error, mean_absolute_error\n",
    "import time\n",
    "import numpy as np\n",
    "\n",
    "# defining rse function\n",
    "def relative_squared_error(y_true, y_pred):\n",
    "    return np.sum((y_true - y_pred)**2) / np.sum((y_true - np.mean(y_true))**2)\n",
    "\n",
    "# listing of models\n",
    "models = [\n",
    "    (\"Linear Regression\", LinearRegression()),\n",
    "    (\"K-Neighbors Regression\", KNeighborsRegressor()),\n",
    "    (\"Ridge Regression\", Ridge()),\n",
    "    (\"Decision Tree Regression\", DecisionTreeRegressor()),\n",
    "    (\"Random Forest Regression\", RandomForestRegressor()),\n",
    "    (\"Gradient Boosting Regression\", GradientBoostingRegressor()),\n",
    "    (\"SGD Regression\", SGDRegressor(max_iter=1000, tol=1e-3)),\n",
    "    (\"Support Vector Regression\", SVR()),\n",
    "    (\"Linear SVR\", LinearSVR(max_iter=10000)),\n",
    "    (\"MLP Regression\", MLPRegressor(max_iter=1000))\n",
    "]\n",
    "\n",
    "#  an empty list to store the results\n",
    "results = []\n",
    "\n",
    "# evaluating each model\n",
    "for name, model in models:\n",
    "    start_time = time.time()\n",
    "    model.fit(X_train_almost, y_train_final)\n",
    "    y_pred = model.predict(X_test_final)\n",
    "    end_time = time.time()\n",
    "\n",
    "    mse = mean_squared_error(y_test_final, y_pred)\n",
    "    rmse = np.sqrt(mse)\n",
    "    rse = relative_squared_error(y_test_final, y_pred)\n",
    "    mae = mean_absolute_error(y_test_final, y_pred)\n",
    "    execution_time = end_time - start_time\n",
    "    \n",
    "    # adding results to the list\n",
    "    results.append([name, mse, rmse, rse, mae, execution_time])\n",
    "\n",
    "# storing results in pandas\n",
    "results_df = pd.DataFrame(results, columns=[\"Model\", \"MSE\", \"RMSE\", \"RSE\", \"MAE\", \"Execution Time\"])\n"
   ]
  },
  {
   "cell_type": "code",
   "execution_count": 43,
   "metadata": {},
   "outputs": [
    {
     "data": {
      "text/html": [
       "<div>\n",
       "<style scoped>\n",
       "    .dataframe tbody tr th:only-of-type {\n",
       "        vertical-align: middle;\n",
       "    }\n",
       "\n",
       "    .dataframe tbody tr th {\n",
       "        vertical-align: top;\n",
       "    }\n",
       "\n",
       "    .dataframe thead th {\n",
       "        text-align: right;\n",
       "    }\n",
       "</style>\n",
       "<table border=\"1\" class=\"dataframe\">\n",
       "  <thead>\n",
       "    <tr style=\"text-align: right;\">\n",
       "      <th></th>\n",
       "      <th>Model</th>\n",
       "      <th>MSE</th>\n",
       "      <th>RMSE</th>\n",
       "      <th>RSE</th>\n",
       "      <th>MAE</th>\n",
       "      <th>Execution Time</th>\n",
       "    </tr>\n",
       "  </thead>\n",
       "  <tbody>\n",
       "    <tr>\n",
       "      <th>0</th>\n",
       "      <td>Linear Regression</td>\n",
       "      <td>1.182288e+06</td>\n",
       "      <td>1087.330509</td>\n",
       "      <td>0.092220</td>\n",
       "      <td>728.043331</td>\n",
       "      <td>0.066622</td>\n",
       "    </tr>\n",
       "    <tr>\n",
       "      <th>1</th>\n",
       "      <td>K-Neighbors Regression</td>\n",
       "      <td>3.820266e+05</td>\n",
       "      <td>618.083028</td>\n",
       "      <td>0.029798</td>\n",
       "      <td>342.339599</td>\n",
       "      <td>0.358549</td>\n",
       "    </tr>\n",
       "    <tr>\n",
       "      <th>2</th>\n",
       "      <td>Ridge Regression</td>\n",
       "      <td>1.182228e+06</td>\n",
       "      <td>1087.302939</td>\n",
       "      <td>0.092215</td>\n",
       "      <td>728.150456</td>\n",
       "      <td>0.010333</td>\n",
       "    </tr>\n",
       "    <tr>\n",
       "      <th>3</th>\n",
       "      <td>Decision Tree Regression</td>\n",
       "      <td>3.952948e+05</td>\n",
       "      <td>628.724772</td>\n",
       "      <td>0.030833</td>\n",
       "      <td>319.542175</td>\n",
       "      <td>0.201888</td>\n",
       "    </tr>\n",
       "    <tr>\n",
       "      <th>4</th>\n",
       "      <td>Random Forest Regression</td>\n",
       "      <td>2.224761e+05</td>\n",
       "      <td>471.673751</td>\n",
       "      <td>0.017353</td>\n",
       "      <td>241.315226</td>\n",
       "      <td>11.384362</td>\n",
       "    </tr>\n",
       "    <tr>\n",
       "      <th>5</th>\n",
       "      <td>Gradient Boosting Regression</td>\n",
       "      <td>2.735554e+05</td>\n",
       "      <td>523.025285</td>\n",
       "      <td>0.021338</td>\n",
       "      <td>296.845157</td>\n",
       "      <td>2.808245</td>\n",
       "    </tr>\n",
       "    <tr>\n",
       "      <th>6</th>\n",
       "      <td>SGD Regression</td>\n",
       "      <td>1.201375e+06</td>\n",
       "      <td>1096.072488</td>\n",
       "      <td>0.093708</td>\n",
       "      <td>723.134507</td>\n",
       "      <td>0.066924</td>\n",
       "    </tr>\n",
       "    <tr>\n",
       "      <th>7</th>\n",
       "      <td>Support Vector Regression</td>\n",
       "      <td>5.615857e+06</td>\n",
       "      <td>2369.780023</td>\n",
       "      <td>0.438042</td>\n",
       "      <td>1178.624139</td>\n",
       "      <td>99.622596</td>\n",
       "    </tr>\n",
       "    <tr>\n",
       "      <th>8</th>\n",
       "      <td>Linear SVR</td>\n",
       "      <td>1.996745e+06</td>\n",
       "      <td>1413.062448</td>\n",
       "      <td>0.155748</td>\n",
       "      <td>789.663871</td>\n",
       "      <td>0.032184</td>\n",
       "    </tr>\n",
       "    <tr>\n",
       "      <th>9</th>\n",
       "      <td>MLP Regression</td>\n",
       "      <td>3.787212e+05</td>\n",
       "      <td>615.403244</td>\n",
       "      <td>0.029541</td>\n",
       "      <td>365.962426</td>\n",
       "      <td>66.846234</td>\n",
       "    </tr>\n",
       "  </tbody>\n",
       "</table>\n",
       "</div>"
      ],
      "text/plain": [
       "                          Model           MSE         RMSE       RSE  \\\n",
       "0             Linear Regression  1.182288e+06  1087.330509  0.092220   \n",
       "1        K-Neighbors Regression  3.820266e+05   618.083028  0.029798   \n",
       "2              Ridge Regression  1.182228e+06  1087.302939  0.092215   \n",
       "3      Decision Tree Regression  3.952948e+05   628.724772  0.030833   \n",
       "4      Random Forest Regression  2.224761e+05   471.673751  0.017353   \n",
       "5  Gradient Boosting Regression  2.735554e+05   523.025285  0.021338   \n",
       "6                SGD Regression  1.201375e+06  1096.072488  0.093708   \n",
       "7     Support Vector Regression  5.615857e+06  2369.780023  0.438042   \n",
       "8                    Linear SVR  1.996745e+06  1413.062448  0.155748   \n",
       "9                MLP Regression  3.787212e+05   615.403244  0.029541   \n",
       "\n",
       "           MAE  Execution Time  \n",
       "0   728.043331        0.066622  \n",
       "1   342.339599        0.358549  \n",
       "2   728.150456        0.010333  \n",
       "3   319.542175        0.201888  \n",
       "4   241.315226       11.384362  \n",
       "5   296.845157        2.808245  \n",
       "6   723.134507        0.066924  \n",
       "7  1178.624139       99.622596  \n",
       "8   789.663871        0.032184  \n",
       "9   365.962426       66.846234  "
      ]
     },
     "execution_count": 43,
     "metadata": {},
     "output_type": "execute_result"
    }
   ],
   "source": [
    "results_df = pd.DataFrame(results, columns=[\"Model\", \"MSE\", \"RMSE\", \"RSE\", \"MAE\", \"Execution Time\"])\n",
    "results_df"
   ]
  },
  {
   "cell_type": "code",
   "execution_count": 44,
   "metadata": {},
   "outputs": [
    {
     "data": {
      "text/html": [
       "<div>\n",
       "<style scoped>\n",
       "    .dataframe tbody tr th:only-of-type {\n",
       "        vertical-align: middle;\n",
       "    }\n",
       "\n",
       "    .dataframe tbody tr th {\n",
       "        vertical-align: top;\n",
       "    }\n",
       "\n",
       "    .dataframe thead th {\n",
       "        text-align: right;\n",
       "    }\n",
       "</style>\n",
       "<table border=\"1\" class=\"dataframe\">\n",
       "  <thead>\n",
       "    <tr style=\"text-align: right;\">\n",
       "      <th></th>\n",
       "      <th>Model</th>\n",
       "      <th>MSE</th>\n",
       "      <th>RMSE</th>\n",
       "      <th>RSE</th>\n",
       "      <th>MAE</th>\n",
       "      <th>Execution Time</th>\n",
       "    </tr>\n",
       "  </thead>\n",
       "  <tbody>\n",
       "    <tr>\n",
       "      <th>0</th>\n",
       "      <td>Linear Regression</td>\n",
       "      <td>1182287.64</td>\n",
       "      <td>1087.33</td>\n",
       "      <td>0.09</td>\n",
       "      <td>728.04</td>\n",
       "      <td>0.07</td>\n",
       "    </tr>\n",
       "    <tr>\n",
       "      <th>1</th>\n",
       "      <td>K-Neighbors Regression</td>\n",
       "      <td>382026.63</td>\n",
       "      <td>618.08</td>\n",
       "      <td>0.03</td>\n",
       "      <td>342.34</td>\n",
       "      <td>0.36</td>\n",
       "    </tr>\n",
       "    <tr>\n",
       "      <th>2</th>\n",
       "      <td>Ridge Regression</td>\n",
       "      <td>1182227.68</td>\n",
       "      <td>1087.30</td>\n",
       "      <td>0.09</td>\n",
       "      <td>728.15</td>\n",
       "      <td>0.01</td>\n",
       "    </tr>\n",
       "    <tr>\n",
       "      <th>3</th>\n",
       "      <td>Decision Tree Regression</td>\n",
       "      <td>395294.84</td>\n",
       "      <td>628.72</td>\n",
       "      <td>0.03</td>\n",
       "      <td>319.54</td>\n",
       "      <td>0.20</td>\n",
       "    </tr>\n",
       "    <tr>\n",
       "      <th>4</th>\n",
       "      <td>Random Forest Regression</td>\n",
       "      <td>222476.13</td>\n",
       "      <td>471.67</td>\n",
       "      <td>0.02</td>\n",
       "      <td>241.32</td>\n",
       "      <td>11.38</td>\n",
       "    </tr>\n",
       "    <tr>\n",
       "      <th>5</th>\n",
       "      <td>Gradient Boosting Regression</td>\n",
       "      <td>273555.45</td>\n",
       "      <td>523.03</td>\n",
       "      <td>0.02</td>\n",
       "      <td>296.85</td>\n",
       "      <td>2.81</td>\n",
       "    </tr>\n",
       "    <tr>\n",
       "      <th>6</th>\n",
       "      <td>SGD Regression</td>\n",
       "      <td>1201374.90</td>\n",
       "      <td>1096.07</td>\n",
       "      <td>0.09</td>\n",
       "      <td>723.13</td>\n",
       "      <td>0.07</td>\n",
       "    </tr>\n",
       "    <tr>\n",
       "      <th>7</th>\n",
       "      <td>Support Vector Regression</td>\n",
       "      <td>5615857.36</td>\n",
       "      <td>2369.78</td>\n",
       "      <td>0.44</td>\n",
       "      <td>1178.62</td>\n",
       "      <td>99.62</td>\n",
       "    </tr>\n",
       "    <tr>\n",
       "      <th>8</th>\n",
       "      <td>Linear SVR</td>\n",
       "      <td>1996745.48</td>\n",
       "      <td>1413.06</td>\n",
       "      <td>0.16</td>\n",
       "      <td>789.66</td>\n",
       "      <td>0.03</td>\n",
       "    </tr>\n",
       "    <tr>\n",
       "      <th>9</th>\n",
       "      <td>MLP Regression</td>\n",
       "      <td>378721.15</td>\n",
       "      <td>615.40</td>\n",
       "      <td>0.03</td>\n",
       "      <td>365.96</td>\n",
       "      <td>66.85</td>\n",
       "    </tr>\n",
       "  </tbody>\n",
       "</table>\n",
       "</div>"
      ],
      "text/plain": [
       "                          Model        MSE    RMSE  RSE     MAE  \\\n",
       "0             Linear Regression 1182287.64 1087.33 0.09  728.04   \n",
       "1        K-Neighbors Regression  382026.63  618.08 0.03  342.34   \n",
       "2              Ridge Regression 1182227.68 1087.30 0.09  728.15   \n",
       "3      Decision Tree Regression  395294.84  628.72 0.03  319.54   \n",
       "4      Random Forest Regression  222476.13  471.67 0.02  241.32   \n",
       "5  Gradient Boosting Regression  273555.45  523.03 0.02  296.85   \n",
       "6                SGD Regression 1201374.90 1096.07 0.09  723.13   \n",
       "7     Support Vector Regression 5615857.36 2369.78 0.44 1178.62   \n",
       "8                    Linear SVR 1996745.48 1413.06 0.16  789.66   \n",
       "9                MLP Regression  378721.15  615.40 0.03  365.96   \n",
       "\n",
       "   Execution Time  \n",
       "0            0.07  \n",
       "1            0.36  \n",
       "2            0.01  \n",
       "3            0.20  \n",
       "4           11.38  \n",
       "5            2.81  \n",
       "6            0.07  \n",
       "7           99.62  \n",
       "8            0.03  \n",
       "9           66.85  "
      ]
     },
     "execution_count": 44,
     "metadata": {},
     "output_type": "execute_result"
    }
   ],
   "source": [
    "pd.options.display.float_format = \"{:.2f}\".format\n",
    "\n",
    "# redisplay to 2dp\n",
    "results_df\n"
   ]
  }
 ],
 "metadata": {
  "kernelspec": {
   "display_name": "Python 3",
   "language": "python",
   "name": "python3"
  },
  "language_info": {
   "codemirror_mode": {
    "name": "ipython",
    "version": 3
   },
   "file_extension": ".py",
   "mimetype": "text/x-python",
   "name": "python",
   "nbconvert_exporter": "python",
   "pygments_lexer": "ipython3",
   "version": "3.12.4"
  }
 },
 "nbformat": 4,
 "nbformat_minor": 2
}
